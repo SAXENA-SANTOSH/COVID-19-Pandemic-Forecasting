{
 "cells": [
  {
   "cell_type": "markdown",
   "metadata": {},
   "source": [
    "# Covid-19 Hackathon\n",
    "## Importing Libraries \n",
    "#### we want numpy for array , pandas for dataframe and matplotlib for data visualization"
   ]
  },
  {
   "cell_type": "code",
   "execution_count": 1,
   "metadata": {},
   "outputs": [],
   "source": [
    "import numpy as np\n",
    "import pandas as pd\n",
    "import matplotlib.pyplot as plt\n",
    "import matplotlib.gridspec as gridspec"
   ]
  },
  {
   "cell_type": "markdown",
   "metadata": {},
   "source": [
    "## Loading the processed dataset\n",
    "#### I only took the essential data in my dataset , hence it is already a processed dataset"
   ]
  },
  {
   "cell_type": "code",
   "execution_count": 2,
   "metadata": {},
   "outputs": [],
   "source": [
    "country = pd.read_csv(\"Desktop/Covid-19.csv/countrywise cases.csv\")\n",
    "state = pd.read_csv(\"Desktop/Covid-19.csv/state wise cases.csv\")\n",
    "total = pd.read_csv(\"Desktop/Covid-19.csv/statewise total case.csv\")\n",
    "code = pd.read_csv(\"Desktop/Covid-19.csv/state name with code.csv\")"
   ]
  },
  {
   "cell_type": "markdown",
   "metadata": {},
   "source": [
    "#### Extracting information from data"
   ]
  },
  {
   "cell_type": "code",
   "execution_count": 3,
   "metadata": {},
   "outputs": [
    {
     "data": {
      "text/html": [
       "<div>\n",
       "<style scoped>\n",
       "    .dataframe tbody tr th:only-of-type {\n",
       "        vertical-align: middle;\n",
       "    }\n",
       "\n",
       "    .dataframe tbody tr th {\n",
       "        vertical-align: top;\n",
       "    }\n",
       "\n",
       "    .dataframe thead th {\n",
       "        text-align: right;\n",
       "    }\n",
       "</style>\n",
       "<table border=\"1\" class=\"dataframe\">\n",
       "  <thead>\n",
       "    <tr style=\"text-align: right;\">\n",
       "      <th></th>\n",
       "      <th>Date</th>\n",
       "      <th>Daily Confirmed</th>\n",
       "      <th>Total Confirmed</th>\n",
       "      <th>Daily Recovered</th>\n",
       "      <th>Total Recovered</th>\n",
       "      <th>Daily Deceased</th>\n",
       "      <th>Total Deceased</th>\n",
       "    </tr>\n",
       "  </thead>\n",
       "  <tbody>\n",
       "    <tr>\n",
       "      <th>0</th>\n",
       "      <td>30 January</td>\n",
       "      <td>1</td>\n",
       "      <td>1</td>\n",
       "      <td>0</td>\n",
       "      <td>0</td>\n",
       "      <td>0</td>\n",
       "      <td>0</td>\n",
       "    </tr>\n",
       "    <tr>\n",
       "      <th>1</th>\n",
       "      <td>31 January</td>\n",
       "      <td>0</td>\n",
       "      <td>1</td>\n",
       "      <td>0</td>\n",
       "      <td>0</td>\n",
       "      <td>0</td>\n",
       "      <td>0</td>\n",
       "    </tr>\n",
       "    <tr>\n",
       "      <th>2</th>\n",
       "      <td>01 February</td>\n",
       "      <td>0</td>\n",
       "      <td>1</td>\n",
       "      <td>0</td>\n",
       "      <td>0</td>\n",
       "      <td>0</td>\n",
       "      <td>0</td>\n",
       "    </tr>\n",
       "    <tr>\n",
       "      <th>3</th>\n",
       "      <td>02 February</td>\n",
       "      <td>1</td>\n",
       "      <td>2</td>\n",
       "      <td>0</td>\n",
       "      <td>0</td>\n",
       "      <td>0</td>\n",
       "      <td>0</td>\n",
       "    </tr>\n",
       "    <tr>\n",
       "      <th>4</th>\n",
       "      <td>03 February</td>\n",
       "      <td>1</td>\n",
       "      <td>3</td>\n",
       "      <td>0</td>\n",
       "      <td>0</td>\n",
       "      <td>0</td>\n",
       "      <td>0</td>\n",
       "    </tr>\n",
       "  </tbody>\n",
       "</table>\n",
       "</div>"
      ],
      "text/plain": [
       "          Date  Daily Confirmed  Total Confirmed  Daily Recovered  \\\n",
       "0   30 January                1                1                0   \n",
       "1   31 January                0                1                0   \n",
       "2  01 February                0                1                0   \n",
       "3  02 February                1                2                0   \n",
       "4  03 February                1                3                0   \n",
       "\n",
       "   Total Recovered  Daily Deceased  Total Deceased  \n",
       "0                0               0               0  \n",
       "1                0               0               0  \n",
       "2                0               0               0  \n",
       "3                0               0               0  \n",
       "4                0               0               0  "
      ]
     },
     "execution_count": 3,
     "metadata": {},
     "output_type": "execute_result"
    }
   ],
   "source": [
    "country.head()"
   ]
  },
  {
   "cell_type": "code",
   "execution_count": 4,
   "metadata": {},
   "outputs": [
    {
     "data": {
      "text/html": [
       "<div>\n",
       "<style scoped>\n",
       "    .dataframe tbody tr th:only-of-type {\n",
       "        vertical-align: middle;\n",
       "    }\n",
       "\n",
       "    .dataframe tbody tr th {\n",
       "        vertical-align: top;\n",
       "    }\n",
       "\n",
       "    .dataframe thead th {\n",
       "        text-align: right;\n",
       "    }\n",
       "</style>\n",
       "<table border=\"1\" class=\"dataframe\">\n",
       "  <thead>\n",
       "    <tr style=\"text-align: right;\">\n",
       "      <th></th>\n",
       "      <th>Date</th>\n",
       "      <th>Status</th>\n",
       "      <th>TT</th>\n",
       "      <th>AN</th>\n",
       "      <th>AP</th>\n",
       "      <th>AR</th>\n",
       "      <th>AS</th>\n",
       "      <th>BR</th>\n",
       "      <th>CH</th>\n",
       "      <th>CT</th>\n",
       "      <th>...</th>\n",
       "      <th>PY</th>\n",
       "      <th>PB</th>\n",
       "      <th>RJ</th>\n",
       "      <th>SK</th>\n",
       "      <th>TN</th>\n",
       "      <th>TG</th>\n",
       "      <th>TR</th>\n",
       "      <th>UP</th>\n",
       "      <th>UT</th>\n",
       "      <th>WB</th>\n",
       "    </tr>\n",
       "  </thead>\n",
       "  <tbody>\n",
       "    <tr>\n",
       "      <th>0</th>\n",
       "      <td>14-Mar-20</td>\n",
       "      <td>Confirmed</td>\n",
       "      <td>79</td>\n",
       "      <td>0</td>\n",
       "      <td>1.0</td>\n",
       "      <td>0</td>\n",
       "      <td>0</td>\n",
       "      <td>0</td>\n",
       "      <td>0</td>\n",
       "      <td>0</td>\n",
       "      <td>...</td>\n",
       "      <td>0</td>\n",
       "      <td>1</td>\n",
       "      <td>3</td>\n",
       "      <td>0</td>\n",
       "      <td>1</td>\n",
       "      <td>1</td>\n",
       "      <td>0</td>\n",
       "      <td>12</td>\n",
       "      <td>0</td>\n",
       "      <td>0</td>\n",
       "    </tr>\n",
       "    <tr>\n",
       "      <th>1</th>\n",
       "      <td>14-Mar-20</td>\n",
       "      <td>Recovered</td>\n",
       "      <td>9</td>\n",
       "      <td>0</td>\n",
       "      <td>0.0</td>\n",
       "      <td>0</td>\n",
       "      <td>0</td>\n",
       "      <td>0</td>\n",
       "      <td>0</td>\n",
       "      <td>0</td>\n",
       "      <td>...</td>\n",
       "      <td>0</td>\n",
       "      <td>0</td>\n",
       "      <td>1</td>\n",
       "      <td>0</td>\n",
       "      <td>0</td>\n",
       "      <td>0</td>\n",
       "      <td>0</td>\n",
       "      <td>4</td>\n",
       "      <td>0</td>\n",
       "      <td>0</td>\n",
       "    </tr>\n",
       "    <tr>\n",
       "      <th>2</th>\n",
       "      <td>14-Mar-20</td>\n",
       "      <td>Deceased</td>\n",
       "      <td>2</td>\n",
       "      <td>0</td>\n",
       "      <td>0.0</td>\n",
       "      <td>0</td>\n",
       "      <td>0</td>\n",
       "      <td>0</td>\n",
       "      <td>0</td>\n",
       "      <td>0</td>\n",
       "      <td>...</td>\n",
       "      <td>0</td>\n",
       "      <td>0</td>\n",
       "      <td>0</td>\n",
       "      <td>0</td>\n",
       "      <td>0</td>\n",
       "      <td>0</td>\n",
       "      <td>0</td>\n",
       "      <td>0</td>\n",
       "      <td>0</td>\n",
       "      <td>0</td>\n",
       "    </tr>\n",
       "    <tr>\n",
       "      <th>3</th>\n",
       "      <td>15-Mar-20</td>\n",
       "      <td>Confirmed</td>\n",
       "      <td>28</td>\n",
       "      <td>0</td>\n",
       "      <td>0.0</td>\n",
       "      <td>0</td>\n",
       "      <td>0</td>\n",
       "      <td>0</td>\n",
       "      <td>0</td>\n",
       "      <td>0</td>\n",
       "      <td>...</td>\n",
       "      <td>0</td>\n",
       "      <td>0</td>\n",
       "      <td>1</td>\n",
       "      <td>0</td>\n",
       "      <td>0</td>\n",
       "      <td>2</td>\n",
       "      <td>0</td>\n",
       "      <td>1</td>\n",
       "      <td>0</td>\n",
       "      <td>0</td>\n",
       "    </tr>\n",
       "    <tr>\n",
       "      <th>4</th>\n",
       "      <td>15-Mar-20</td>\n",
       "      <td>Recovered</td>\n",
       "      <td>4</td>\n",
       "      <td>0</td>\n",
       "      <td>0.0</td>\n",
       "      <td>0</td>\n",
       "      <td>0</td>\n",
       "      <td>0</td>\n",
       "      <td>0</td>\n",
       "      <td>0</td>\n",
       "      <td>...</td>\n",
       "      <td>0</td>\n",
       "      <td>0</td>\n",
       "      <td>2</td>\n",
       "      <td>0</td>\n",
       "      <td>0</td>\n",
       "      <td>1</td>\n",
       "      <td>0</td>\n",
       "      <td>0</td>\n",
       "      <td>0</td>\n",
       "      <td>0</td>\n",
       "    </tr>\n",
       "  </tbody>\n",
       "</table>\n",
       "<p>5 rows × 40 columns</p>\n",
       "</div>"
      ],
      "text/plain": [
       "        Date     Status  TT  AN   AP  AR  AS  BR  CH  CT  ...  PY  PB  RJ  SK  \\\n",
       "0  14-Mar-20  Confirmed  79   0  1.0   0   0   0   0   0  ...   0   1   3   0   \n",
       "1  14-Mar-20  Recovered   9   0  0.0   0   0   0   0   0  ...   0   0   1   0   \n",
       "2  14-Mar-20   Deceased   2   0  0.0   0   0   0   0   0  ...   0   0   0   0   \n",
       "3  15-Mar-20  Confirmed  28   0  0.0   0   0   0   0   0  ...   0   0   1   0   \n",
       "4  15-Mar-20  Recovered   4   0  0.0   0   0   0   0   0  ...   0   0   2   0   \n",
       "\n",
       "   TN  TG  TR  UP  UT  WB  \n",
       "0   1   1   0  12   0   0  \n",
       "1   0   0   0   4   0   0  \n",
       "2   0   0   0   0   0   0  \n",
       "3   0   2   0   1   0   0  \n",
       "4   0   1   0   0   0   0  \n",
       "\n",
       "[5 rows x 40 columns]"
      ]
     },
     "execution_count": 4,
     "metadata": {},
     "output_type": "execute_result"
    }
   ],
   "source": [
    "state.head()"
   ]
  },
  {
   "cell_type": "code",
   "execution_count": 5,
   "metadata": {},
   "outputs": [
    {
     "data": {
      "text/html": [
       "<div>\n",
       "<style scoped>\n",
       "    .dataframe tbody tr th:only-of-type {\n",
       "        vertical-align: middle;\n",
       "    }\n",
       "\n",
       "    .dataframe tbody tr th {\n",
       "        vertical-align: top;\n",
       "    }\n",
       "\n",
       "    .dataframe thead th {\n",
       "        text-align: right;\n",
       "    }\n",
       "</style>\n",
       "<table border=\"1\" class=\"dataframe\">\n",
       "  <thead>\n",
       "    <tr style=\"text-align: right;\">\n",
       "      <th></th>\n",
       "      <th>State</th>\n",
       "      <th>ConfirmeConfirmed</th>\n",
       "      <th>Recovered</th>\n",
       "      <th>Deaths</th>\n",
       "      <th>Active</th>\n",
       "      <th>Last_Updated_Time</th>\n",
       "      <th>State_code</th>\n",
       "      <th>Delta_Confirmed</th>\n",
       "      <th>Delta_Recovered</th>\n",
       "      <th>Delta_Deaths</th>\n",
       "    </tr>\n",
       "  </thead>\n",
       "  <tbody>\n",
       "    <tr>\n",
       "      <th>0</th>\n",
       "      <td>Total</td>\n",
       "      <td>9075</td>\n",
       "      <td>1061</td>\n",
       "      <td>303</td>\n",
       "      <td>7711</td>\n",
       "      <td>12/04/2020 20:30:24</td>\n",
       "      <td>TT</td>\n",
       "      <td>623</td>\n",
       "      <td>89</td>\n",
       "      <td>14</td>\n",
       "    </tr>\n",
       "    <tr>\n",
       "      <th>1</th>\n",
       "      <td>Maharashtra</td>\n",
       "      <td>1895</td>\n",
       "      <td>208</td>\n",
       "      <td>127</td>\n",
       "      <td>1560</td>\n",
       "      <td>12/04/2020 14:35:24</td>\n",
       "      <td>MH</td>\n",
       "      <td>134</td>\n",
       "      <td>0</td>\n",
       "      <td>0</td>\n",
       "    </tr>\n",
       "    <tr>\n",
       "      <th>2</th>\n",
       "      <td>Tamil Nadu</td>\n",
       "      <td>1075</td>\n",
       "      <td>50</td>\n",
       "      <td>11</td>\n",
       "      <td>1014</td>\n",
       "      <td>12/04/2020 18:10:24</td>\n",
       "      <td>TN</td>\n",
       "      <td>106</td>\n",
       "      <td>6</td>\n",
       "      <td>1</td>\n",
       "    </tr>\n",
       "    <tr>\n",
       "      <th>3</th>\n",
       "      <td>Delhi</td>\n",
       "      <td>1154</td>\n",
       "      <td>28</td>\n",
       "      <td>24</td>\n",
       "      <td>1102</td>\n",
       "      <td>12/04/2020 20:30:25</td>\n",
       "      <td>DL</td>\n",
       "      <td>85</td>\n",
       "      <td>1</td>\n",
       "      <td>5</td>\n",
       "    </tr>\n",
       "    <tr>\n",
       "      <th>4</th>\n",
       "      <td>Telangana</td>\n",
       "      <td>503</td>\n",
       "      <td>96</td>\n",
       "      <td>14</td>\n",
       "      <td>393</td>\n",
       "      <td>11/04/2020 22:10:24</td>\n",
       "      <td>TG</td>\n",
       "      <td>0</td>\n",
       "      <td>0</td>\n",
       "      <td>0</td>\n",
       "    </tr>\n",
       "  </tbody>\n",
       "</table>\n",
       "</div>"
      ],
      "text/plain": [
       "         State  ConfirmeConfirmed  Recovered  Deaths  Active  \\\n",
       "0        Total               9075       1061     303    7711   \n",
       "1  Maharashtra               1895        208     127    1560   \n",
       "2   Tamil Nadu               1075         50      11    1014   \n",
       "3        Delhi               1154         28      24    1102   \n",
       "4    Telangana                503         96      14     393   \n",
       "\n",
       "     Last_Updated_Time State_code  Delta_Confirmed  Delta_Recovered  \\\n",
       "0  12/04/2020 20:30:24         TT              623               89   \n",
       "1  12/04/2020 14:35:24         MH              134                0   \n",
       "2  12/04/2020 18:10:24         TN              106                6   \n",
       "3  12/04/2020 20:30:25         DL               85                1   \n",
       "4  11/04/2020 22:10:24         TG                0                0   \n",
       "\n",
       "   Delta_Deaths  \n",
       "0            14  \n",
       "1             0  \n",
       "2             1  \n",
       "3             5  \n",
       "4             0  "
      ]
     },
     "execution_count": 5,
     "metadata": {},
     "output_type": "execute_result"
    }
   ],
   "source": [
    "total.head()"
   ]
  },
  {
   "cell_type": "code",
   "execution_count": 6,
   "metadata": {},
   "outputs": [
    {
     "data": {
      "text/html": [
       "<div>\n",
       "<style scoped>\n",
       "    .dataframe tbody tr th:only-of-type {\n",
       "        vertical-align: middle;\n",
       "    }\n",
       "\n",
       "    .dataframe tbody tr th {\n",
       "        vertical-align: top;\n",
       "    }\n",
       "\n",
       "    .dataframe thead th {\n",
       "        text-align: right;\n",
       "    }\n",
       "</style>\n",
       "<table border=\"1\" class=\"dataframe\">\n",
       "  <thead>\n",
       "    <tr style=\"text-align: right;\">\n",
       "      <th></th>\n",
       "      <th>No.</th>\n",
       "      <th>State/ UT</th>\n",
       "      <th>Abbreviation</th>\n",
       "    </tr>\n",
       "  </thead>\n",
       "  <tbody>\n",
       "    <tr>\n",
       "      <th>0</th>\n",
       "      <td>1</td>\n",
       "      <td>Andhra Pradesh</td>\n",
       "      <td>AP</td>\n",
       "    </tr>\n",
       "    <tr>\n",
       "      <th>1</th>\n",
       "      <td>2</td>\n",
       "      <td>Arunachal Pradesh</td>\n",
       "      <td>AR</td>\n",
       "    </tr>\n",
       "    <tr>\n",
       "      <th>2</th>\n",
       "      <td>3</td>\n",
       "      <td>Assam</td>\n",
       "      <td>AS</td>\n",
       "    </tr>\n",
       "    <tr>\n",
       "      <th>3</th>\n",
       "      <td>4</td>\n",
       "      <td>Bihar</td>\n",
       "      <td>BR</td>\n",
       "    </tr>\n",
       "    <tr>\n",
       "      <th>4</th>\n",
       "      <td>5</td>\n",
       "      <td>Chhattisgarh</td>\n",
       "      <td>CT</td>\n",
       "    </tr>\n",
       "  </tbody>\n",
       "</table>\n",
       "</div>"
      ],
      "text/plain": [
       "   No.          State/ UT Abbreviation\n",
       "0    1     Andhra Pradesh           AP\n",
       "1    2  Arunachal Pradesh           AR\n",
       "2    3              Assam           AS\n",
       "3    4              Bihar           BR\n",
       "4    5       Chhattisgarh           CT"
      ]
     },
     "execution_count": 6,
     "metadata": {},
     "output_type": "execute_result"
    }
   ],
   "source": [
    "code.head()"
   ]
  },
  {
   "cell_type": "markdown",
   "metadata": {},
   "source": [
    "## National level prediction\n",
    "## Data Visualization"
   ]
  },
  {
   "cell_type": "code",
   "execution_count": 260,
   "metadata": {},
   "outputs": [],
   "source": [
    "India=[[],[],[]]\n",
    "India[0] = list(country[\"Total Confirmed\"])\n",
    "India[1] = list(country[\"Total Recovered\"])\n",
    "India[2] = list(country[\"Total Deceased\"])"
   ]
  },
  {
   "cell_type": "code",
   "execution_count": 261,
   "metadata": {},
   "outputs": [
    {
     "data": {
      "text/plain": [
       "<matplotlib.legend.Legend at 0x11b343b90>"
      ]
     },
     "execution_count": 261,
     "metadata": {},
     "output_type": "execute_result"
    },
    {
     "data": {
      "image/png": "[encoded data removed]",
      "text/plain": [
       "<Figure size 432x288 with 1 Axes>"
      ]
     },
     "metadata": {
      "needs_background": "light"
     },
     "output_type": "display_data"
    }
   ],
   "source": [
    "sr=[]\n",
    "for i in range(74):\n",
    "    sr.append(i)\n",
    "plt.plot(sr,India[0] , c= \"blue\",label = \"Confirmed\")\n",
    "plt.plot(sr,India[1] , c= \"green\",label = \"Recovered\")\n",
    "plt.plot(sr,India[2] , c= \"red\",label = \"Deaths\")\n",
    "plt.xlabel(\"Number of days\")\n",
    "plt.ylabel(\"Number of cases\")\n",
    "plt.title(\"India\")\n",
    "plt.legend()"
   ]
  },
  {
   "cell_type": "markdown",
   "metadata": {},
   "source": [
    "#### The graph is exponential in nature"
   ]
  },
  {
   "cell_type": "code",
   "execution_count": 262,
   "metadata": {},
   "outputs": [],
   "source": [
    "dif = [[],[],[]]\n",
    "for i in range(len(India[0])-1):\n",
    "    dif[0].append(India[0][i+1] - India[0][i])\n",
    "    dif[1].append(India[1][i+1] - India[1][i])\n",
    "    dif[2].append(India[2][i+1] - India[2][i])"
   ]
  },
  {
   "cell_type": "code",
   "execution_count": 265,
   "metadata": {},
   "outputs": [
    {
     "data": {
      "text/plain": [
       "<matplotlib.legend.Legend at 0x11b2626d0>"
      ]
     },
     "execution_count": 265,
     "metadata": {},
     "output_type": "execute_result"
    },
    {
     "data": {
      "image/png": "[encoded data removed]",
      "text/plain": [
       "<Figure size 432x288 with 1 Axes>"
      ]
     },
     "metadata": {
      "needs_background": "light"
     },
     "output_type": "display_data"
    }
   ],
   "source": [
    "#del(sr[73])\n",
    "plt.plot(sr,dif[0] , c= \"blue\",label = \"Confirmed\")\n",
    "plt.plot(sr,dif[1] , c= \"green\",label = \"Recovered\")\n",
    "plt.plot(sr,dif[2] , c= \"red\",label = \"Deaths\")\n",
    "plt.xlabel(\"Number of days\")\n",
    "plt.ylabel(\"Number of cases per day\")\n",
    "plt.title(\"India\")\n",
    "plt.legend()"
   ]
  },
  {
   "cell_type": "markdown",
   "metadata": {},
   "source": [
    "### Further aim will be to calculate the relation between the stages as discussed in the documentary"
   ]
  },
  {
   "cell_type": "code",
   "execution_count": 266,
   "metadata": {},
   "outputs": [],
   "source": [
    "stage1 = []\n",
    "stage2 = []\n",
    "stage3 = []\n",
    "stage4 = []\n",
    "stage5 = []\n",
    "for i in range(len(India[0])):\n",
    "    if(India[0][i]/10 < 1):\n",
    "        stage1.append(India[0][i])\n",
    "    elif(India[0][i]/10 > 1 and India[0][i]/100 < 1):\n",
    "        stage2.append(India[0][i])\n",
    "    elif(India[0][i]/10 > 1 and India[0][i]/100 >1 and India[0][i]/1000 < 1 ):\n",
    "        stage3.append(India[0][i])\n",
    "    elif(India[0][i]/10 > 1 and India[0][i]/100 >1 and India[0][i]/1000 > 1 and India[0][i]/10000 < 1):\n",
    "        stage4.append(India[0][i])\n",
    "    else:\n",
    "        stage5.append(India[0][i])"
   ]
  },
  {
   "cell_type": "code",
   "execution_count": 267,
   "metadata": {},
   "outputs": [
    {
     "name": "stdout",
     "output_type": "stream",
     "text": [
      "34\n",
      "10\n",
      "14\n",
      "16\n",
      "0\n"
     ]
    }
   ],
   "source": [
    "print(len(stage1))\n",
    "print(len(stage2))\n",
    "print(len(stage3))\n",
    "print(len(stage4))\n",
    "print(len(stage5))"
   ]
  },
  {
   "cell_type": "code",
   "execution_count": 268,
   "metadata": {},
   "outputs": [],
   "source": [
    "def serial(x):\n",
    "    sr=[]\n",
    "    for i in range(x):\n",
    "        sr.append(i)\n",
    "    return sr"
   ]
  },
  {
   "cell_type": "markdown",
   "metadata": {},
   "source": [
    "#### Creating a parameter list to store all the essential parameter for calculation of stages"
   ]
  },
  {
   "cell_type": "code",
   "execution_count": 269,
   "metadata": {},
   "outputs": [],
   "source": [
    "parameter = []"
   ]
  },
  {
   "cell_type": "markdown",
   "metadata": {},
   "source": [
    "#### Creating a Regression function to find the essential Parameters"
   ]
  },
  {
   "cell_type": "code",
   "execution_count": 270,
   "metadata": {},
   "outputs": [],
   "source": [
    "def Regression(x,y):\n",
    "    ja=[]\n",
    "    p=[]\n",
    "    i=0\n",
    "    while(i<1000):\n",
    "        for j in range(10):\n",
    "            suma = 0.1 * j + i\n",
    "            result = 0\n",
    "            p.append(suma)\n",
    "            for k in range(len(x)):\n",
    "                h = suma*x[k]\n",
    "                temp = y[k] - h\n",
    "                if(temp < 0):\n",
    "                    temp = -1*temp\n",
    "                result = result + temp\n",
    "            ja.append(result)\n",
    "        i = i+1\n",
    "    for i in range(len(ja)):\n",
    "        if(ja[i] == min(ja)):\n",
    "            index = p[i]\n",
    "    ypred = []\n",
    "    for i in range(len(x)):\n",
    "        h = index *x[i]\n",
    "        ypred.append(h)\n",
    "    plt.scatter(x,y,color = \"blue\")\n",
    "    plt.plot(x,ypred , color = \"red\")\n",
    "    plt.xlabel(\"Number of days\")\n",
    "    plt.ylabel(\"Number of Cases\")\n",
    "    return index"
   ]
  },
  {
   "cell_type": "markdown",
   "metadata": {},
   "source": [
    "#### Finding the coefficient of all the stages using regression function"
   ]
  },
  {
   "cell_type": "code",
   "execution_count": 271,
   "metadata": {},
   "outputs": [],
   "source": [
    "stage = [stage1,stage2,stage3,stage4]"
   ]
  },
  {
   "cell_type": "code",
   "execution_count": 272,
   "metadata": {},
   "outputs": [
    {
     "data": {
      "image/png": "[encoded data removed]",
      "text/plain": [
       "<Figure size 432x288 with 1 Axes>"
      ]
     },
     "metadata": {
      "needs_background": "light"
     },
     "output_type": "display_data"
    }
   ],
   "source": [
    "sr = serial(len(stage[0]))\n",
    "parameter.append(Regression(sr,stage[0]))"
   ]
  },
  {
   "cell_type": "code",
   "execution_count": 273,
   "metadata": {},
   "outputs": [
    {
     "data": {
      "image/png": "[encoded data removed]",
      "text/plain": [
       "<Figure size 432x288 with 1 Axes>"
      ]
     },
     "metadata": {
      "needs_background": "light"
     },
     "output_type": "display_data"
    }
   ],
   "source": [
    "sr = serial(len(stage[1]))\n",
    "parameter.append(Regression(sr,stage[1]))"
   ]
  },
  {
   "cell_type": "code",
   "execution_count": 274,
   "metadata": {},
   "outputs": [
    {
     "data": {
      "image/png": "[encoded data removed]",
      "text/plain": [
       "<Figure size 432x288 with 1 Axes>"
      ]
     },
     "metadata": {
      "needs_background": "light"
     },
     "output_type": "display_data"
    }
   ],
   "source": [
    "sr = serial(len(stage[2]))\n",
    "parameter.append(Regression(sr,stage[2]))"
   ]
  },
  {
   "cell_type": "code",
   "execution_count": 275,
   "metadata": {},
   "outputs": [
    {
     "data": {
      "image/png": "[encoded data removed]",
      "text/plain": [
       "<Figure size 432x288 with 1 Axes>"
      ]
     },
     "metadata": {
      "needs_background": "light"
     },
     "output_type": "display_data"
    }
   ],
   "source": [
    "sr = serial(len(stage[3]))\n",
    "parameter.append(Regression(sr,stage[3]))"
   ]
  },
  {
   "cell_type": "code",
   "execution_count": 276,
   "metadata": {},
   "outputs": [
    {
     "data": {
      "text/plain": [
       "[0.1, 10.1, 57.1, 544.7]"
      ]
     },
     "execution_count": 276,
     "metadata": {},
     "output_type": "execute_result"
    }
   ],
   "source": [
    "parameter"
   ]
  },
  {
   "cell_type": "markdown",
   "metadata": {},
   "source": [
    "we got essential data to find the relation between the stages as discussed in the documentation"
   ]
  },
  {
   "cell_type": "code",
   "execution_count": 277,
   "metadata": {},
   "outputs": [],
   "source": [
    "stage_relation = [] # All the coefficients of all stages with respect to stage 1"
   ]
  },
  {
   "cell_type": "code",
   "execution_count": 278,
   "metadata": {},
   "outputs": [],
   "source": [
    "for i in range(4):\n",
    "    stage_relation.append(parameter[i]/parameter[0])"
   ]
  },
  {
   "cell_type": "code",
   "execution_count": 279,
   "metadata": {},
   "outputs": [
    {
     "data": {
      "text/plain": [
       "[1.0, 100.99999999999999, 571.0, 5447.0]"
      ]
     },
     "execution_count": 279,
     "metadata": {},
     "output_type": "execute_result"
    }
   ],
   "source": [
    "stage_relation"
   ]
  },
  {
   "cell_type": "markdown",
   "metadata": {},
   "source": [
    "#### Relation between different stages\n",
    "##### stage1 = stage1\n",
    "##### stage2 = 101 * stage1\n",
    "##### stage3 = 571 * stage1\n",
    "##### stage4 = 5447 * stage1\n",
    "##### stage5 is an empty list"
   ]
  },
  {
   "cell_type": "markdown",
   "metadata": {},
   "source": [
    "### Next aim is to find the Levels to find conditional probablity of infection as per documentation"
   ]
  },
  {
   "cell_type": "code",
   "execution_count": 280,
   "metadata": {},
   "outputs": [],
   "source": [
    "st_dif=[[],[],[],[]]\n",
    "for i in range(len(India[0])-1):\n",
    "    if(India[0][i]/10 < 1):\n",
    "        st_dif[0].append(dif[0][i])\n",
    "    elif(India[0][i]/10 > 1 and India[0][i]/100 < 1):\n",
    "        st_dif[1].append(dif[0][i])\n",
    "    elif(India[0][i]/10 > 1 and India[0][i]/100 >1 and India[0][i]/1000 < 1 ):\n",
    "        st_dif[2].append(dif[0][i])\n",
    "    elif(India[0][i]/10 > 1 and India[0][i]/100 >1 and India[0][i]/1000 > 1 and India[0][i]/10000 < 1):\n",
    "        st_dif[3].append(dif[0][i])\n",
    "    else:\n",
    "        stage5.append(India[0][i])"
   ]
  },
  {
   "cell_type": "markdown",
   "metadata": {},
   "source": [
    "#### Creating a parameter1 list to load essential data of Levels"
   ]
  },
  {
   "cell_type": "code",
   "execution_count": 281,
   "metadata": {},
   "outputs": [],
   "source": [
    "parameter1=[]"
   ]
  },
  {
   "cell_type": "markdown",
   "metadata": {},
   "source": [
    "#### Finding the coefficient of all the Levels using regression function"
   ]
  },
  {
   "cell_type": "code",
   "execution_count": 282,
   "metadata": {},
   "outputs": [
    {
     "data": {
      "image/png": "[encoded data removed]",
      "text/plain": [
       "<Figure size 432x288 with 1 Axes>"
      ]
     },
     "metadata": {
      "needs_background": "light"
     },
     "output_type": "display_data"
    }
   ],
   "source": [
    "sr = serial(len(st_dif[0]))\n",
    "parameter1.append(Regression(sr,st_dif[0]))"
   ]
  },
  {
   "cell_type": "code",
   "execution_count": 283,
   "metadata": {},
   "outputs": [
    {
     "data": {
      "image/png": "[encoded data removed]",
      "text/plain": [
       "<Figure size 432x288 with 1 Axes>"
      ]
     },
     "metadata": {
      "needs_background": "light"
     },
     "output_type": "display_data"
    }
   ],
   "source": [
    "sr = serial(len(st_dif[1]))\n",
    "parameter1.append(Regression(sr,st_dif[1]))"
   ]
  },
  {
   "cell_type": "code",
   "execution_count": 284,
   "metadata": {},
   "outputs": [
    {
     "data": {
      "image/png": "[encoded data removed]",
      "text/plain": [
       "<Figure size 432x288 with 1 Axes>"
      ]
     },
     "metadata": {
      "needs_background": "light"
     },
     "output_type": "display_data"
    }
   ],
   "source": [
    "sr = serial(len(st_dif[2]))\n",
    "parameter1.append(Regression(sr,st_dif[2]))"
   ]
  },
  {
   "cell_type": "code",
   "execution_count": 285,
   "metadata": {},
   "outputs": [
    {
     "data": {
      "image/png": "[encoded data removed]",
      "text/plain": [
       "<Figure size 432x288 with 1 Axes>"
      ]
     },
     "metadata": {
      "needs_background": "light"
     },
     "output_type": "display_data"
    }
   ],
   "source": [
    "sr = serial(len(st_dif[3]))\n",
    "parameter1.append(Regression(sr,st_dif[3]))"
   ]
  },
  {
   "cell_type": "code",
   "execution_count": 286,
   "metadata": {},
   "outputs": [
    {
     "data": {
      "text/plain": [
       "[0.0, 1.4, 10.0, 65.7]"
      ]
     },
     "execution_count": 286,
     "metadata": {},
     "output_type": "execute_result"
    }
   ],
   "source": [
    "parameter1"
   ]
  },
  {
   "cell_type": "code",
   "execution_count": 287,
   "metadata": {},
   "outputs": [],
   "source": [
    "level_relation = []\n",
    "for i in range(4):\n",
    "    level_relation.append(parameter1[i]/parameter1[1])"
   ]
  },
  {
   "cell_type": "code",
   "execution_count": 288,
   "metadata": {},
   "outputs": [
    {
     "data": {
      "text/plain": [
       "[0.0, 1.0, 7.142857142857143, 46.92857142857143]"
      ]
     },
     "execution_count": 288,
     "metadata": {},
     "output_type": "execute_result"
    }
   ],
   "source": [
    "level_relation"
   ]
  },
  {
   "cell_type": "markdown",
   "metadata": {},
   "source": [
    "#### Relation between different Levels\n",
    "##### level1 = 0 (Conditions of perfect lockdown)\n",
    "##### level2 = 1 * level2  (Conditions for imperfect lockdown)\n",
    "##### level3 = 7 * level2 ( Condition for impoerfect lockdown with illegal gathering)\n",
    "##### level4 = 47 * level2 (No restrictions)\n",
    "##### level5 is an empty list"
   ]
  },
  {
   "cell_type": "markdown",
   "metadata": {},
   "source": [
    "## Calculating the probablity for the Recovery rate\n",
    "#### Calculating with the help of regression model"
   ]
  },
  {
   "cell_type": "code",
   "execution_count": 289,
   "metadata": {},
   "outputs": [],
   "source": [
    "death_recovery = []"
   ]
  },
  {
   "cell_type": "code",
   "execution_count": 290,
   "metadata": {},
   "outputs": [
    {
     "data": {
      "image/png": "[encoded data removed]",
      "text/plain": [
       "<Figure size 432x288 with 1 Axes>"
      ]
     },
     "metadata": {
      "needs_background": "light"
     },
     "output_type": "display_data"
    }
   ],
   "source": [
    "death_recovery.append(Regression(India[0],India[1]))"
   ]
  },
  {
   "cell_type": "markdown",
   "metadata": {},
   "source": [
    "#### Calculating with the help of probablity"
   ]
  },
  {
   "cell_type": "code",
   "execution_count": 291,
   "metadata": {},
   "outputs": [],
   "source": [
    "pro_death_recovery = []"
   ]
  },
  {
   "cell_type": "code",
   "execution_count": 292,
   "metadata": {},
   "outputs": [],
   "source": [
    "p = max(India[1])/max(India[0])"
   ]
  },
  {
   "cell_type": "code",
   "execution_count": 293,
   "metadata": {},
   "outputs": [],
   "source": [
    "pro_death_recovery.append(p)"
   ]
  },
  {
   "cell_type": "markdown",
   "metadata": {},
   "source": [
    "#### regression model and probablity are giving the same parameter"
   ]
  },
  {
   "cell_type": "markdown",
   "metadata": {},
   "source": [
    "## Calculating the death rate"
   ]
  },
  {
   "cell_type": "markdown",
   "metadata": {},
   "source": [
    "#### Calculating with the help of regression model"
   ]
  },
  {
   "cell_type": "code",
   "execution_count": 294,
   "metadata": {},
   "outputs": [
    {
     "data": {
      "image/png": "[encoded data removed]",
      "text/plain": [
       "<Figure size 432x288 with 1 Axes>"
      ]
     },
     "metadata": {
      "needs_background": "light"
     },
     "output_type": "display_data"
    }
   ],
   "source": [
    "death_recovery.append(Regression(India[0],India[2]))"
   ]
  },
  {
   "cell_type": "markdown",
   "metadata": {},
   "source": [
    "As most of the cases are 0 hence the parameter came to 0. but number of cases is directly proportional to death rate. Hence we are going for probablity"
   ]
  },
  {
   "cell_type": "code",
   "execution_count": 295,
   "metadata": {},
   "outputs": [],
   "source": [
    "p = max(India[2])/max(India[0])"
   ]
  },
  {
   "cell_type": "code",
   "execution_count": 296,
   "metadata": {},
   "outputs": [
    {
     "data": {
      "text/plain": [
       "0.03371529308065227"
      ]
     },
     "execution_count": 296,
     "metadata": {},
     "output_type": "execute_result"
    }
   ],
   "source": [
    "p"
   ]
  },
  {
   "cell_type": "code",
   "execution_count": 297,
   "metadata": {},
   "outputs": [],
   "source": [
    "pro_death_recovery.append(p)"
   ]
  },
  {
   "cell_type": "code",
   "execution_count": 298,
   "metadata": {},
   "outputs": [
    {
     "name": "stdout",
     "output_type": "stream",
     "text": [
      "[0.1, 0.0]\n",
      "[0.11690171881886294, 0.03371529308065227]\n"
     ]
    }
   ],
   "source": [
    "print(death_recovery)\n",
    "print(pro_death_recovery)"
   ]
  },
  {
   "cell_type": "markdown",
   "metadata": {},
   "source": [
    "pro_death_Recovery is more accurate. hence discarding regression parameter"
   ]
  },
  {
   "cell_type": "code",
   "execution_count": 299,
   "metadata": {},
   "outputs": [],
   "source": [
    "del(death_recovery)"
   ]
  },
  {
   "cell_type": "markdown",
   "metadata": {},
   "source": [
    "## Calculating the conditional probablity for pandemic Infection"
   ]
  },
  {
   "cell_type": "code",
   "execution_count": 547,
   "metadata": {},
   "outputs": [],
   "source": [
    "def probablity(parameter1,x):\n",
    "    s = 0\n",
    "    l1=int(input(\"Enter how many infected person are toally lockdown\"))\n",
    "    l2=int(input(\"Enter how many infected person have gone with maximum social distancing\"))\n",
    "    l3=int(input(\"Enter how many infected person and meet some people\"))\n",
    "    l4=int(input(\"Enter how many infected person had illegal gahtering or government had not declared lockdown\"))\n",
    "    if(l1 != 0 ):\n",
    "        l1 = l1\n",
    "        s = 0\n",
    "    if(l2 != 0):\n",
    "        l2 = l2\n",
    "        s = 1\n",
    "    if(l3 != 0 ):\n",
    "        l3 = l3\n",
    "        s = 2\n",
    "    if(l4 != 0):\n",
    "        l4 = l4\n",
    "        s = 3\n",
    "    m = s*15\n",
    "    result = (l1*level_relation[0]) + (l2*level_relation[1]) + (l3*level_relation[2]) + (l4*level_relation[3])\n",
    "    probablity = result/(level_relation[s]*m)\n",
    "    return probablity "
   ]
  },
  {
   "cell_type": "code",
   "execution_count": 535,
   "metadata": {},
   "outputs": [
    {
     "name": "stdout",
     "output_type": "stream",
     "text": [
      "Enter how many infected person are toally lockdown1\n",
      "Enter how many infected person have gone with maximum social distancing1\n",
      "Enter how many infected person and meet some people1\n",
      "Enter how many infected person had illegal gahtering or government had not declared lockdown1\n"
     ]
    },
    {
     "data": {
      "text/plain": [
       "0.019558599695585994"
      ]
     },
     "execution_count": 535,
     "metadata": {},
     "output_type": "execute_result"
    }
   ],
   "source": [
    "probablity(parameter1,3)"
   ]
  },
  {
   "cell_type": "markdown",
   "metadata": {},
   "source": [
    "## Compiling all the functions and paramers "
   ]
  },
  {
   "cell_type": "markdown",
   "metadata": {},
   "source": [
    "### 1) Calculation of Stages\n",
    "### 2) Calculation of Levels\n",
    "### 3) Calculation of conditional probablity for infection\n",
    "### 4) Calculation of death and recovery rate"
   ]
  },
  {
   "cell_type": "code",
   "execution_count": 477,
   "metadata": {},
   "outputs": [],
   "source": [
    "def main():\n",
    "    print(\"Welcome to pandemic forecasting\")\n",
    "    x = int(input(\"Enter the number of cases = \"))\n",
    "    x1 = int(input(\"Enter the number of days in the range of 14 of which you want to predict = \"))\n",
    "    if(x/10 < 1):\n",
    "        s = 0\n",
    "    elif(x/10 > 1 and x/100 < 1):\n",
    "        s = 1\n",
    "    elif(x/10 > 1 and x/100 >1 and x/1000 < 1 ):\n",
    "        s = 2\n",
    "    elif(x/10 > 1 and x/100 >1 and x/1000 > 1 and x/10000 < 1):\n",
    "        s = 3\n",
    "    else:\n",
    "        print(\"This stage is not present please update the model\")\n",
    "    pro = probablity(parameter1,x)\n",
    "    death = x*pro_death_recovery[1]\n",
    "    recovery = x*pro_death_recovery[0]\n",
    "    print(\"Previous death calculated = \" , death , recovery)\n",
    "    ypred = (parameter[s]*x1)+(stage_relation[s]*pro) - death - recovery\n",
    "    death = ypred*pro_death_recovery[1]\n",
    "    recovery = ypred*pro_death_recovery[0]\n",
    "    print(pro , stage_relation[s] , parameter[0]*x1)\n",
    "    print(\"Number of confirmed cases will be = \" , ypred)\n",
    "    print(\"Number of death on that day will be = \" , death)\n",
    "    print(\"Number of recovery on that day will be = \",recovery)\n",
    "    return ypred ,  death , recovery"
   ]
  },
  {
   "cell_type": "code",
   "execution_count": 556,
   "metadata": {},
   "outputs": [],
   "source": [
    "ypr = []\n",
    "de = []\n",
    "re = []"
   ]
  },
  {
   "cell_type": "code",
   "execution_count": 558,
   "metadata": {},
   "outputs": [
    {
     "name": "stdout",
     "output_type": "stream",
     "text": [
      "Welcome to pandemic forecasting\n",
      "Enter the number of cases = 28\n",
      "Enter the number of days in the range of 14 of which you want to predict = 14\n",
      "Enter how many infected person are toally lockdown0\n",
      "Enter how many infected person have gone with maximum social distancing18\n",
      "Enter how many infected person and meet some people10\n",
      "Enter how many infected person had illegal gahtering or government had not declared lockdown0\n",
      "Previous death calculated =  0.9440282062582636 3.2732481269281624\n",
      "0.4173333333333333 100.99999999999999 1.4000000000000001\n",
      "Number of confirmed cases will be =  179.33339033348022\n",
      "Number of death on that day will be =  6.046277814240298\n",
      "Number of recovery on that day will be =  20.964381571597897\n"
     ]
    }
   ],
   "source": [
    "a,b,c = main()\n",
    "ypr.append(a)\n",
    "de.append(b)\n",
    "re.append(c)"
   ]
  },
  {
   "cell_type": "code",
   "execution_count": 559,
   "metadata": {},
   "outputs": [
    {
     "name": "stdout",
     "output_type": "stream",
     "text": [
      "Welcome to pandemic forecasting\n",
      "Enter the number of cases = 30\n",
      "Enter the number of days in the range of 14 of which you want to predict = 14\n",
      "Enter how many infected person are toally lockdown0\n",
      "Enter how many infected person have gone with maximum social distancing12\n",
      "Enter how many infected person and meet some people18\n",
      "Enter how many infected person had illegal gahtering or government had not declared lockdown0\n",
      "Previous death calculated =  1.0114587924195682 3.507051564565888\n",
      "0.656 100.99999999999999 1.4000000000000001\n",
      "Number of confirmed cases will be =  203.13748964301453\n",
      "Number of death on that day will be =  6.8488399989822\n",
      "Number of recovery on that day will be =  23.747121695817366\n"
     ]
    }
   ],
   "source": [
    "a,b,c = main()\n",
    "ypr.append(a)\n",
    "de.append(b)\n",
    "re.append(c)"
   ]
  },
  {
   "cell_type": "code",
   "execution_count": 560,
   "metadata": {},
   "outputs": [
    {
     "name": "stdout",
     "output_type": "stream",
     "text": [
      "Welcome to pandemic forecasting\n",
      "Enter the number of cases = 31\n",
      "Enter the number of days in the range of 14 of which you want to predict = 14\n",
      "Enter how many infected person are toally lockdown0\n",
      "Enter how many infected person have gone with maximum social distancing0\n",
      "Enter how many infected person and meet some people31\n",
      "Enter how many infected person had illegal gahtering or government had not declared lockdown0\n",
      "Previous death calculated =  1.0451740855002203 3.623953283384751\n",
      "1.0333333333333332 100.99999999999999 1.4000000000000001\n",
      "Number of confirmed cases will be =  241.09753929778168\n",
      "Number of death on that day will be =  8.128674198448788\n",
      "Number of recovery on that day will be =  28.184716746909032\n"
     ]
    }
   ],
   "source": [
    "a,b,c = main()\n",
    "ypr.append(a)\n",
    "de.append(b)\n",
    "re.append(c)"
   ]
  },
  {
   "cell_type": "code",
   "execution_count": 561,
   "metadata": {},
   "outputs": [],
   "source": [
    "#a,b,c = main()\n",
    "#ypr.append(a)\n",
    "#de.append(b)\n",
    "#re.append(c)"
   ]
  },
  {
   "cell_type": "markdown",
   "metadata": {},
   "source": [
    "## Testing the accuracy of the Model"
   ]
  },
  {
   "cell_type": "code",
   "execution_count": 562,
   "metadata": {},
   "outputs": [
    {
     "name": "stdout",
     "output_type": "stream",
     "text": [
      "Predicted Confirmed cases =  [179.33339033348022, 203.13748964301453, 241.09753929778168]\n",
      "Predicted Death cases =  [6.046277814240298, 6.8488399989822, 8.128674198448788]\n",
      "Predicted Recovery cases =  [20.964381571597897, 23.747121695817366, 28.184716746909032]\n"
     ]
    }
   ],
   "source": [
    "print(\"Predicted Confirmed cases = \",ypr)\n",
    "print(\"Predicted Death cases = \",de)\n",
    "print(\"Predicted Recovery cases = \",re)"
   ]
  },
  {
   "cell_type": "code",
   "execution_count": 563,
   "metadata": {},
   "outputs": [],
   "source": [
    "ya = []\n",
    "da = []\n",
    "ra = []"
   ]
  },
  {
   "cell_type": "code",
   "execution_count": 564,
   "metadata": {},
   "outputs": [],
   "source": [
    "for i in range(3):\n",
    "    ya.append(India[0][34+14+i])\n",
    "    da.append(India[2][34+14+i])\n",
    "    ra.append(India[1][34+14+i])"
   ]
  },
  {
   "cell_type": "code",
   "execution_count": 565,
   "metadata": {},
   "outputs": [
    {
     "name": "stdout",
     "output_type": "stream",
     "text": [
      "Actual Confirmed Cases =  [171, 198, 256]\n",
      "Actual Death cases =  [3, 4, 4]\n",
      "Actual Recovered cases =  [15, 20, 23]\n"
     ]
    }
   ],
   "source": [
    "print(\"Actual Confirmed Cases = \", ya)\n",
    "print(\"Actual Death cases = \", da)\n",
    "print(\"Actual Recovered cases = \",ra)"
   ]
  },
  {
   "cell_type": "markdown",
   "metadata": {},
   "source": [
    "## Accuracy"
   ]
  },
  {
   "cell_type": "code",
   "execution_count": 566,
   "metadata": {},
   "outputs": [],
   "source": [
    "from sklearn.metrics import r2_score"
   ]
  },
  {
   "cell_type": "code",
   "execution_count": 567,
   "metadata": {},
   "outputs": [
    {
     "data": {
      "text/plain": [
       "0.9157300240510555"
      ]
     },
     "execution_count": 567,
     "metadata": {},
     "output_type": "execute_result"
    }
   ],
   "source": [
    "r2_score(ya,ypr)"
   ]
  },
  {
   "cell_type": "code",
   "execution_count": 568,
   "metadata": {},
   "outputs": [
    {
     "data": {
      "text/plain": [
       "-50.66247274740544"
      ]
     },
     "execution_count": 568,
     "metadata": {},
     "output_type": "execute_result"
    }
   ],
   "source": [
    "r2_score(da,de)"
   ]
  },
  {
   "cell_type": "code",
   "execution_count": 569,
   "metadata": {},
   "outputs": [
    {
     "data": {
      "text/plain": [
       "-1.3417160085885955"
      ]
     },
     "execution_count": 569,
     "metadata": {},
     "output_type": "execute_result"
    }
   ],
   "source": [
    "r2_score(ra,re)"
   ]
  },
  {
   "cell_type": "markdown",
   "metadata": {},
   "source": [
    "The Accuracy can be increased. Actually i gave any random value in probablity level input section. The reason behind this is that data is only knowned by the infected person. If they tell us the correct information then we can achieve a good accuracy. This is the only reason i took only 3 value for testing. I intentionally added an extra value to overcome that part of error. If we get correct input our model will give the correct predictions "
   ]
  },
  {
   "cell_type": "markdown",
   "metadata": {},
   "source": [
    "# Thank you"
   ]
  },
  {
   "cell_type": "code",
   "execution_count": null,
   "metadata": {},
   "outputs": [],
   "source": []
  },
  {
   "cell_type": "code",
   "execution_count": null,
   "metadata": {},
   "outputs": [],
   "source": []
  },
  {
   "cell_type": "code",
   "execution_count": null,
   "metadata": {},
   "outputs": [],
   "source": []
  }
 ],
 "metadata": {
  "kernelspec": {
   "display_name": "Python 3",
   "language": "python",
   "name": "python3"
  },
  "language_info": {
   "codemirror_mode": {
    "name": "ipython",
    "version": 3
   },
   "file_extension": ".py",
   "mimetype": "text/x-python",
   "name": "python",
   "nbconvert_exporter": "python",
   "pygments_lexer": "ipython3",
   "version": "3.7.6"
  }
 },
 "nbformat": 4,
 "nbformat_minor": 4
}
